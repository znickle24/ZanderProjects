{
 "cells": [
  {
   "cell_type": "markdown",
   "metadata": {},
   "source": [
    "# Data Analysis and Vis, HW 5\n",
    "*Adapted from COMP 5360 / MATH 4100, University of Utah, http://datasciencecourse.net/*\n",
    "\n",
    "Due: July 11\n",
    "\n",
    "In this homework, you will use classification methods to classify handwritten digits (Part 1) and predict the popularity of online news (Part 2). We hope these exercises will give you an idea of the broad usage of classificaiton methods. "
   ]
  },
  {
   "cell_type": "code",
   "execution_count": 1,
   "metadata": {},
   "outputs": [],
   "source": [
    "# imports and setup \n",
    "\n",
    "import pandas as pd\n",
    "import numpy as np\n",
    "import statistics\n",
    "\n",
    "from sklearn import tree, svm, metrics\n",
    "from sklearn.neighbors import KNeighborsClassifier\n",
    "from sklearn.model_selection import train_test_split, cross_val_predict, cross_val_score, KFold\n",
    "from sklearn.datasets import load_digits\n",
    "from sklearn.preprocessing import scale\n",
    "\n",
    "import matplotlib.pyplot as plt\n",
    "%matplotlib inline\n",
    "plt.rcParams['figure.figsize'] = (10, 6)\n",
    "plt.style.use('ggplot')"
   ]
  },
  {
   "cell_type": "markdown",
   "metadata": {},
   "source": [
    "## Part1: MNIST handwritten digits\n",
    "\n",
    "THE MNIST handwritten digit dataset consists of images of handwritten digits, together with labels indicating which digit is in each image. You will see that images are just matrices with scalar values, and that we can use all the classifcation algorithms we studied on them.  We saw these in class when we looked at clustering methods.\n",
    "\n",
    "Becaue both the features and the labels are present in this dataset (and labels for large datasets are generally difficult/expensive to obtain), this dataset is frequently used as a benchmark to compare various classification methods. \n",
    "For example, [this webpage](http://yann.lecun.com/exdb/mnist/) gives a comparison of a variety of different classification methods on MNIST (Note that the tests on this website are for higher resolution images than we'll use.) \n",
    "\n",
    "In this problem, we'll use scikit-learn to compare classification methods on the MNIST dataset. \n",
    "\n",
    "There are several versions of the MNIST dataset. We'll use the one that is built-into scikit-learn, described [here](http://scikit-learn.org/stable/modules/generated/sklearn.datasets.load_digits.html). \n",
    "\n",
    "* Classes: 10 (one for each digit)\n",
    "* Samples total: 1797\n",
    "* Samples per class: $\\approx$180\n",
    "* Dimensionality: 64 (8 pixels by 8 pixels)\n",
    "* Features: integers 0-16 (grayscale value; 0 is white, 16 is black)\n",
    "\n",
    "Here are some examples of the images. Note that the digits have been size-normalized and centered in a fixed-size ($8\\times8$ pixels) image.\n",
    "\n",
    "<img src=\"http://scikit-learn.org/stable/_images/sphx_glr_plot_digits_classification_001.png\" width=\"500\">"
   ]
  },
  {
   "cell_type": "markdown",
   "metadata": {},
   "source": [
    "Note that we will scale the data before running them through our algorithms, which will also alter their appearance when we plot them. You can read details about scaling and why it's important [here](http://scikit-learn.org/stable/modules/preprocessing.html#standardization-or-mean-removal-and-variance-scaling)."
   ]
  },
  {
   "cell_type": "code",
   "execution_count": 2,
   "metadata": {},
   "outputs": [
    {
     "name": "stdout",
     "output_type": "stream",
     "text": [
      "<class 'numpy.ndarray'>\n",
      "n_digits: 10, n_samples 1797, n_features 64\n"
     ]
    }
   ],
   "source": [
    "digits = load_digits()\n",
    "X = scale(digits.data)\n",
    "y = digits.target\n",
    "print(type(X))\n",
    "\n",
    "n_samples, n_features = X.shape\n",
    "n_digits = len(np.unique(digits.target))\n",
    "print(\"n_digits: %d, n_samples %d, n_features %d\" % (n_digits, n_samples, n_features))"
   ]
  },
  {
   "cell_type": "code",
   "execution_count": 3,
   "metadata": {},
   "outputs": [
    {
     "name": "stdout",
     "output_type": "stream",
     "text": [
      "===\n",
      "The raw data\n",
      "[[  0.   0.   5.  13.   9.   1.   0.   0.]\n",
      " [  0.   0.  13.  15.  10.  15.   5.   0.]\n",
      " [  0.   3.  15.   2.   0.  11.   8.   0.]\n",
      " [  0.   4.  12.   0.   0.   8.   8.   0.]\n",
      " [  0.   5.   8.   0.   0.   9.   8.   0.]\n",
      " [  0.   4.  11.   0.   1.  12.   7.   0.]\n",
      " [  0.   2.  14.   5.  10.  12.   0.   0.]\n",
      " [  0.   0.   6.  13.  10.   0.   0.   0.]]\n",
      "===\n",
      "The scaled data\n",
      "[ 0.         -0.33501649 -0.04308102  0.27407152 -0.66447751 -0.84412939\n",
      " -0.40972392 -0.12502292 -0.05907756 -0.62400926  0.4829745   0.75962245\n",
      " -0.05842586  1.12772113  0.87958306 -0.13043338 -0.04462507  0.11144272\n",
      "  0.89588044 -0.86066632 -1.14964846  0.51547187  1.90596347 -0.11422184\n",
      " -0.03337973  0.48648928  0.46988512 -1.49990136 -1.61406277  0.07639777\n",
      "  1.54181413 -0.04723238  0.          0.76465553  0.05263019 -1.44763006\n",
      " -1.73666443  0.04361588  1.43955804  0.         -0.06134367  0.8105536\n",
      "  0.63011714 -1.12245711 -1.06623158  0.66096475  0.81845076 -0.08874162\n",
      " -0.03543326  0.74211893  1.15065212 -0.86867056  0.11012973  0.53761116\n",
      " -0.75743581 -0.20978513 -0.02359646 -0.29908135  0.08671869  0.20829258\n",
      " -0.36677122 -1.14664746 -0.5056698  -0.19600752]\n",
      "===\n",
      "The digit\n",
      "0\n"
     ]
    }
   ],
   "source": [
    "# this is what one digit (a zero) looks like\n",
    "print(\"===\\nThe raw data\")\n",
    "print(digits.images[0])\n",
    "print(\"===\\nThe scaled data\")\n",
    "print(X[0])\n",
    "print(\"===\\nThe digit\")\n",
    "print(digits.target[0])"
   ]
  },
  {
   "cell_type": "code",
   "execution_count": 4,
   "metadata": {},
   "outputs": [
    {
     "data": {
      "image/png": "[encoded data removed]",
      "text/plain": [
       "<matplotlib.figure.Figure at 0x1a0b077d68>"
      ]
     },
     "metadata": {},
     "output_type": "display_data"
    }
   ],
   "source": [
    "plt.figure(figsize= (10, 10))    \n",
    "for ii in np.arange(25):\n",
    "    plt.subplot(5, 5, ii+1)\n",
    "    plt.imshow(np.reshape(X[ii,:],(8,8)), cmap='Greys',interpolation='nearest')\n",
    "    plt.axis('off')\n",
    "plt.show()"
   ]
  },
  {
   "cell_type": "markdown",
   "metadata": {},
   "source": [
    "You might find [this webpage](http://scikit-learn.org/stable/tutorial/basic/tutorial.html) helpful. "
   ]
  },
  {
   "cell_type": "markdown",
   "metadata": {},
   "source": [
    "### Task 1.1: Classification with Support Vector Machines (SVM)\n",
    "\n",
    "1. Split the data into a training and test set using the command \n",
    "```\n",
    "train_test_split(X, y, random_state=1, test_size=0.8)\n",
    "```\n",
    "+ Use SVM with an `rbf` kernel and parameter `C=100` to build a classifier using the *training dataset*.\n",
    "+ Using the *test dataset*, evaluate the accuracy of the model. Again using the *test dataset*, compute the confusion matrix. What is the most common mistake that the classifier makes? \n",
    "+ Print all of these misclassified digits as images. \n",
    "+ Using the 'cross_val_score' function, evaluate the accuracy of the SVM for 100 different values of the parameter C between 1 and 500. What is the best value? \n",
    "+ Try to train and test the algorithm on the raw (non-scaled) data. What's your accuracy score?"
   ]
  },
  {
   "cell_type": "code",
   "execution_count": 5,
   "metadata": {},
   "outputs": [
    {
     "name": "stdout",
     "output_type": "stream",
     "text": [
      "SVC(C=100, cache_size=200, class_weight=None, coef0=0.0,\n",
      "  decision_function_shape='ovr', degree=3, gamma='auto', kernel='rbf',\n",
      "  max_iter=-1, probability=False, random_state=None, shrinking=True,\n",
      "  tol=0.001, verbose=False)\n"
     ]
    }
   ],
   "source": [
    "# build train/test and use svm.SVC with a radial basis function as the kernel\n",
    "X_train, X_test, y_train, y_test = train_test_split(X, y, random_state=1, test_size=0.8)\n",
    "rbfModel = svm.SVC(kernel='rbf', C=100)\n",
    "#fit the data using test dataset\n",
    "rbfModel.fit(X_train,y_train)\n",
    "print(rbfModel)"
   ]
  },
  {
   "cell_type": "code",
   "execution_count": 6,
   "metadata": {},
   "outputs": [
    {
     "data": {
      "text/plain": [
       "{'C': 100,\n",
       " 'cache_size': 200,\n",
       " 'class_weight': None,\n",
       " 'coef0': 0.0,\n",
       " 'decision_function_shape': 'ovr',\n",
       " 'degree': 3,\n",
       " 'gamma': 'auto',\n",
       " 'kernel': 'rbf',\n",
       " 'max_iter': -1,\n",
       " 'probability': False,\n",
       " 'random_state': None,\n",
       " 'shrinking': True,\n",
       " 'tol': 0.001,\n",
       " 'verbose': False}"
      ]
     },
     "execution_count": 6,
     "metadata": {},
     "output_type": "execute_result"
    }
   ],
   "source": [
    "rbfModel.get_params()"
   ]
  },
  {
   "cell_type": "code",
   "execution_count": 7,
   "metadata": {},
   "outputs": [
    {
     "name": "stdout",
     "output_type": "stream",
     "text": [
      "[[130   0   0   0   0   0   0   0   0   0]\n",
      " [  0 140   4   0   0   0   0   1   4   0]\n",
      " [  0   1 134   0   0   0   0   2   5   0]\n",
      " [  0   0   3 136   0   0   0   3   4   1]\n",
      " [  0   0   0   0 140   0   0  12   0   0]\n",
      " [  0   0   0   0   0 141   1   0   1   4]\n",
      " [  0   1   0   0   0   0 144   0   1   0]\n",
      " [  0   0   0   0   0   0   0 139   0   1]\n",
      " [  0   4   0   1   0   1   0   1 126   0]\n",
      " [  0   2   0   2   0   3   1   2   2 140]]\n",
      "Accuracy =  0.952712100139\n"
     ]
    }
   ],
   "source": [
    "#predicting y from the test data\n",
    "y_pred = rbfModel.predict(X_test)\n",
    "#compute the confusion matrix in order to see where the classifier is going wrong\n",
    "print(metrics.confusion_matrix(y_true = y_test, y_pred = y_pred))\n",
    "print('Accuracy = ', metrics.accuracy_score(y_true = y_test, y_pred = y_pred))"
   ]
  },
  {
   "cell_type": "code",
   "execution_count": 8,
   "metadata": {},
   "outputs": [
    {
     "name": "stdout",
     "output_type": "stream",
     "text": [
      "[16, 60, 84, 112, 169, 176, 203, 210, 225, 248, 249, 284, 298, 347, 361, 385, 387, 394, 400, 439, 462, 487, 523, 528, 533, 537, 540, 545, 576, 591, 635, 648, 683, 721, 726, 735, 738, 755, 757, 782, 785, 799, 891, 932, 957, 971, 999, 1032, 1040, 1085, 1089, 1090, 1108, 1120, 1149, 1198, 1217, 1230, 1255, 1273, 1283, 1342, 1346, 1356, 1363, 1371, 1394, 1395]\n"
     ]
    },
    {
     "data": {
      "image/png": "[encoded data removed]",
      "text/plain": [
       "<matplotlib.figure.Figure at 0x1a0b077898>"
      ]
     },
     "metadata": {},
     "output_type": "display_data"
    }
   ],
   "source": [
    "misClassified = [x for x in range(len(y_pred)) if y_test[x] != y_pred[x]]\n",
    "print(misClassified)\n",
    "plt.figure(figsize=(15,15))\n",
    "for i, val in enumerate(misClassified): \n",
    "    plt.subplot(np.ceil(len(misClassified)/10), 10, i+1)\n",
    "    plt.imshow(np.reshape(X_test[val,:], (8,8)), cmap='Greys', interpolation='nearest')\n",
    "    plt.axis('off')\n",
    "plt.show()"
   ]
  },
  {
   "cell_type": "code",
   "execution_count": 9,
   "metadata": {},
   "outputs": [
    {
     "name": "stdout",
     "output_type": "stream",
     "text": [
      "Accuracy =  [ 0.98287671  0.98281787  0.97552448  0.99298246  0.98239437] C =  1\n",
      "Accuracy =  [ 0.97945205  0.9862543   0.97202797  0.99298246  0.98591549] C =  6\n",
      "Accuracy =  [ 0.97945205  0.9862543   0.97202797  0.99298246  0.98591549] C =  11\n",
      "Accuracy =  [ 0.97945205  0.9862543   0.97202797  0.99298246  0.98591549] C =  16\n",
      "Accuracy =  [ 0.97945205  0.9862543   0.97202797  0.99298246  0.98591549] C =  21\n",
      "Accuracy =  [ 0.97945205  0.9862543   0.97202797  0.99298246  0.98591549] C =  26\n",
      "Accuracy =  [ 0.97945205  0.9862543   0.97202797  0.99298246  0.98591549] C =  31\n",
      "Accuracy =  [ 0.97945205  0.9862543   0.97202797  0.99298246  0.98591549] C =  36\n",
      "Accuracy =  [ 0.97945205  0.9862543   0.97202797  0.99298246  0.98591549] C =  41\n",
      "Accuracy =  [ 0.97945205  0.9862543   0.97202797  0.99298246  0.98591549] C =  46\n",
      "Accuracy =  [ 0.97945205  0.9862543   0.97202797  0.99298246  0.98591549] C =  51\n",
      "Accuracy =  [ 0.97945205  0.9862543   0.97202797  0.99298246  0.98591549] C =  56\n",
      "Accuracy =  [ 0.97945205  0.9862543   0.97202797  0.99298246  0.98591549] C =  61\n",
      "Accuracy =  [ 0.97945205  0.9862543   0.97202797  0.99298246  0.98591549] C =  66\n",
      "Accuracy =  [ 0.97945205  0.9862543   0.97202797  0.99298246  0.98591549] C =  71\n",
      "Accuracy =  [ 0.97945205  0.9862543   0.97202797  0.99298246  0.98591549] C =  76\n",
      "Accuracy =  [ 0.97945205  0.9862543   0.97202797  0.99298246  0.98591549] C =  81\n",
      "Accuracy =  [ 0.97945205  0.9862543   0.97202797  0.99298246  0.98591549] C =  86\n",
      "Accuracy =  [ 0.97945205  0.9862543   0.97202797  0.99298246  0.98591549] C =  91\n",
      "Accuracy =  [ 0.97945205  0.9862543   0.97202797  0.99298246  0.98591549] C =  96\n",
      "Accuracy =  [ 0.97945205  0.9862543   0.97202797  0.99298246  0.98591549] C =  101\n",
      "Accuracy =  [ 0.97945205  0.9862543   0.97202797  0.99298246  0.98591549] C =  106\n",
      "Accuracy =  [ 0.97945205  0.9862543   0.97202797  0.99298246  0.98591549] C =  111\n",
      "Accuracy =  [ 0.97945205  0.9862543   0.97202797  0.99298246  0.98591549] C =  116\n",
      "Accuracy =  [ 0.97945205  0.9862543   0.97202797  0.99298246  0.98591549] C =  121\n",
      "Accuracy =  [ 0.97945205  0.9862543   0.97202797  0.99298246  0.98591549] C =  126\n",
      "Accuracy =  [ 0.97945205  0.9862543   0.97202797  0.99298246  0.98591549] C =  131\n",
      "Accuracy =  [ 0.97945205  0.9862543   0.97202797  0.99298246  0.98591549] C =  136\n",
      "Accuracy =  [ 0.97945205  0.9862543   0.97202797  0.99298246  0.98591549] C =  141\n",
      "Accuracy =  [ 0.97945205  0.9862543   0.97202797  0.99298246  0.98591549] C =  146\n",
      "Accuracy =  [ 0.97945205  0.9862543   0.97202797  0.99298246  0.98591549] C =  151\n",
      "Accuracy =  [ 0.97945205  0.9862543   0.97202797  0.99298246  0.98591549] C =  156\n",
      "Accuracy =  [ 0.97945205  0.9862543   0.97202797  0.99298246  0.98591549] C =  161\n",
      "Accuracy =  [ 0.97945205  0.9862543   0.97202797  0.99298246  0.98591549] C =  166\n",
      "Accuracy =  [ 0.97945205  0.9862543   0.97202797  0.99298246  0.98591549] C =  171\n",
      "Accuracy =  [ 0.97945205  0.9862543   0.97202797  0.99298246  0.98591549] C =  176\n",
      "Accuracy =  [ 0.97945205  0.9862543   0.97202797  0.99298246  0.98591549] C =  181\n",
      "Accuracy =  [ 0.97945205  0.9862543   0.97202797  0.99298246  0.98591549] C =  186\n",
      "Accuracy =  [ 0.97945205  0.9862543   0.97202797  0.99298246  0.98591549] C =  191\n",
      "Accuracy =  [ 0.97945205  0.9862543   0.97202797  0.99298246  0.98591549] C =  196\n",
      "Accuracy =  [ 0.97945205  0.9862543   0.97202797  0.99298246  0.98591549] C =  201\n",
      "Accuracy =  [ 0.97945205  0.9862543   0.97202797  0.99298246  0.98591549] C =  206\n",
      "Accuracy =  [ 0.97945205  0.9862543   0.97202797  0.99298246  0.98591549] C =  211\n",
      "Accuracy =  [ 0.97945205  0.9862543   0.97202797  0.99298246  0.98591549] C =  216\n",
      "Accuracy =  [ 0.97945205  0.9862543   0.97202797  0.99298246  0.98591549] C =  221\n",
      "Accuracy =  [ 0.97945205  0.9862543   0.97202797  0.99298246  0.98591549] C =  226\n",
      "Accuracy =  [ 0.97945205  0.9862543   0.97202797  0.99298246  0.98591549] C =  231\n",
      "Accuracy =  [ 0.97945205  0.9862543   0.97202797  0.99298246  0.98591549] C =  236\n",
      "Accuracy =  [ 0.97945205  0.9862543   0.97202797  0.99298246  0.98591549] C =  241\n",
      "Accuracy =  [ 0.97945205  0.9862543   0.97202797  0.99298246  0.98591549] C =  246\n",
      "Accuracy =  [ 0.97945205  0.9862543   0.97202797  0.99298246  0.98591549] C =  251\n",
      "Accuracy =  [ 0.97945205  0.9862543   0.97202797  0.99298246  0.98591549] C =  256\n",
      "Accuracy =  [ 0.97945205  0.9862543   0.97202797  0.99298246  0.98591549] C =  261\n",
      "Accuracy =  [ 0.97945205  0.9862543   0.97202797  0.99298246  0.98591549] C =  266\n",
      "Accuracy =  [ 0.97945205  0.9862543   0.97202797  0.99298246  0.98591549] C =  271\n",
      "Accuracy =  [ 0.97945205  0.9862543   0.97202797  0.99298246  0.98591549] C =  276\n",
      "Accuracy =  [ 0.97945205  0.9862543   0.97202797  0.99298246  0.98591549] C =  281\n",
      "Accuracy =  [ 0.97945205  0.9862543   0.97202797  0.99298246  0.98591549] C =  286\n",
      "Accuracy =  [ 0.97945205  0.9862543   0.97202797  0.99298246  0.98591549] C =  291\n",
      "Accuracy =  [ 0.97945205  0.9862543   0.97202797  0.99298246  0.98591549] C =  296\n",
      "Accuracy =  [ 0.97945205  0.9862543   0.97202797  0.99298246  0.98591549] C =  301\n",
      "Accuracy =  [ 0.97945205  0.9862543   0.97202797  0.99298246  0.98591549] C =  306\n",
      "Accuracy =  [ 0.97945205  0.9862543   0.97202797  0.99298246  0.98591549] C =  311\n",
      "Accuracy =  [ 0.97945205  0.9862543   0.97202797  0.99298246  0.98591549] C =  316\n",
      "Accuracy =  [ 0.97945205  0.9862543   0.97202797  0.99298246  0.98591549] C =  321\n",
      "Accuracy =  [ 0.97945205  0.9862543   0.97202797  0.99298246  0.98591549] C =  326\n",
      "Accuracy =  [ 0.97945205  0.9862543   0.97202797  0.99298246  0.98591549] C =  331\n",
      "Accuracy =  [ 0.97945205  0.9862543   0.97202797  0.99298246  0.98591549] C =  336\n",
      "Accuracy =  [ 0.97945205  0.9862543   0.97202797  0.99298246  0.98591549] C =  341\n",
      "Accuracy =  [ 0.97945205  0.9862543   0.97202797  0.99298246  0.98591549] C =  346\n",
      "Accuracy =  [ 0.97945205  0.9862543   0.97202797  0.99298246  0.98591549] C =  351\n",
      "Accuracy =  [ 0.97945205  0.9862543   0.97202797  0.99298246  0.98591549] C =  356\n",
      "Accuracy =  [ 0.97945205  0.9862543   0.97202797  0.99298246  0.98591549] C =  361\n",
      "Accuracy =  [ 0.97945205  0.9862543   0.97202797  0.99298246  0.98591549] C =  366\n",
      "Accuracy =  [ 0.97945205  0.9862543   0.97202797  0.99298246  0.98591549] C =  371\n",
      "Accuracy =  [ 0.97945205  0.9862543   0.97202797  0.99298246  0.98591549] C =  376\n",
      "Accuracy =  [ 0.97945205  0.9862543   0.97202797  0.99298246  0.98591549] C =  381\n",
      "Accuracy =  [ 0.97945205  0.9862543   0.97202797  0.99298246  0.98591549] C =  386\n",
      "Accuracy =  [ 0.97945205  0.9862543   0.97202797  0.99298246  0.98591549] C =  391\n",
      "Accuracy =  [ 0.97945205  0.9862543   0.97202797  0.99298246  0.98591549] C =  396\n",
      "Accuracy =  [ 0.97945205  0.9862543   0.97202797  0.99298246  0.98591549] C =  401\n",
      "Accuracy =  [ 0.97945205  0.9862543   0.97202797  0.99298246  0.98591549] C =  406\n",
      "Accuracy =  [ 0.97945205  0.9862543   0.97202797  0.99298246  0.98591549] C =  411\n",
      "Accuracy =  [ 0.97945205  0.9862543   0.97202797  0.99298246  0.98591549] C =  416\n",
      "Accuracy =  [ 0.97945205  0.9862543   0.97202797  0.99298246  0.98591549] C =  421\n",
      "Accuracy =  [ 0.97945205  0.9862543   0.97202797  0.99298246  0.98591549] C =  426\n",
      "Accuracy =  [ 0.97945205  0.9862543   0.97202797  0.99298246  0.98591549] C =  431\n",
      "Accuracy =  [ 0.97945205  0.9862543   0.97202797  0.99298246  0.98591549] C =  436\n",
      "Accuracy =  [ 0.97945205  0.9862543   0.97202797  0.99298246  0.98591549] C =  441\n",
      "Accuracy =  [ 0.97945205  0.9862543   0.97202797  0.99298246  0.98591549] C =  446\n",
      "Accuracy =  [ 0.97945205  0.9862543   0.97202797  0.99298246  0.98591549] C =  451\n",
      "Accuracy =  [ 0.97945205  0.9862543   0.97202797  0.99298246  0.98591549] C =  456\n",
      "Accuracy =  [ 0.97945205  0.9862543   0.97202797  0.99298246  0.98591549] C =  461\n",
      "Accuracy =  [ 0.97945205  0.9862543   0.97202797  0.99298246  0.98591549] C =  466\n",
      "Accuracy =  [ 0.97945205  0.9862543   0.97202797  0.99298246  0.98591549] C =  471\n",
      "Accuracy =  [ 0.97945205  0.9862543   0.97202797  0.99298246  0.98591549] C =  476\n",
      "Accuracy =  [ 0.97945205  0.9862543   0.97202797  0.99298246  0.98591549] C =  481\n",
      "Accuracy =  [ 0.97945205  0.9862543   0.97202797  0.99298246  0.98591549] C =  486\n",
      "Accuracy =  [ 0.97945205  0.9862543   0.97202797  0.99298246  0.98591549] C =  491\n"
     ]
    },
    {
     "name": "stdout",
     "output_type": "stream",
     "text": [
      "Accuracy =  [ 0.97945205  0.9862543   0.97202797  0.99298246  0.98591549] C =  496\n"
     ]
    }
   ],
   "source": [
    "#This seems to suggest that the testing went well, but this seems odd. I'd think we should be far less accurate\n",
    "for i in range (1, 500, 5): \n",
    "    model = svm.SVC(kernel='rbf', C=i).fit(X_test,y_test)\n",
    "    y_predi = model.predict(X_test)\n",
    "#     score = cross_val_score(estimator = model, X = X_test, y = y_test, cv=5, scoring='accuracy') \n",
    "#     print(metrics.confusion_matrix(y_true = y, y_pred=y_predi))\n",
    "    print('Accuracy = ', cross_val_score(estimator = model, X = X_test, y = y_test, cv=5, scoring='accuracy'), 'C = ', i)"
   ]
  },
  {
   "cell_type": "code",
   "execution_count": 10,
   "metadata": {},
   "outputs": [
    {
     "name": "stdout",
     "output_type": "stream",
     "text": [
      "Accuracy =  [ 0.42123288  0.49484536  0.42307692  0.41052632  0.39084507] C =  1\n",
      "Accuracy =  [ 0.48287671  0.53608247  0.47552448  0.44210526  0.44014085] C =  6\n",
      "Accuracy =  [ 0.48287671  0.53608247  0.47552448  0.44210526  0.44014085] C =  11\n",
      "Accuracy =  [ 0.48287671  0.53608247  0.47552448  0.44210526  0.44014085] C =  16\n",
      "Accuracy =  [ 0.48287671  0.53608247  0.47552448  0.44210526  0.44014085] C =  21\n",
      "Accuracy =  [ 0.48287671  0.53608247  0.47552448  0.44210526  0.44014085] C =  26\n",
      "Accuracy =  [ 0.48287671  0.53608247  0.47552448  0.44210526  0.44014085] C =  31\n",
      "Accuracy =  [ 0.48287671  0.53608247  0.47552448  0.44210526  0.44014085] C =  36\n",
      "Accuracy =  [ 0.48287671  0.53608247  0.47552448  0.44210526  0.44014085] C =  41\n",
      "Accuracy =  [ 0.48287671  0.53608247  0.47552448  0.44210526  0.44014085] C =  46\n",
      "Accuracy =  [ 0.48287671  0.53608247  0.47552448  0.44210526  0.44014085] C =  51\n",
      "Accuracy =  [ 0.48287671  0.53608247  0.47552448  0.44210526  0.44014085] C =  56\n",
      "Accuracy =  [ 0.48287671  0.53608247  0.47552448  0.44210526  0.44014085] C =  61\n",
      "Accuracy =  [ 0.48287671  0.53608247  0.47552448  0.44210526  0.44014085] C =  66\n",
      "Accuracy =  [ 0.48287671  0.53608247  0.47552448  0.44210526  0.44014085] C =  71\n",
      "Accuracy =  [ 0.48287671  0.53608247  0.47552448  0.44210526  0.44014085] C =  76\n",
      "Accuracy =  [ 0.48287671  0.53608247  0.47552448  0.44210526  0.44014085] C =  81\n",
      "Accuracy =  [ 0.48287671  0.53608247  0.47552448  0.44210526  0.44014085] C =  86\n",
      "Accuracy =  [ 0.48287671  0.53608247  0.47552448  0.44210526  0.44014085] C =  91\n",
      "Accuracy =  [ 0.48287671  0.53608247  0.47552448  0.44210526  0.44014085] C =  96\n",
      "Accuracy =  [ 0.48287671  0.53608247  0.47552448  0.44210526  0.44014085] C =  101\n",
      "Accuracy =  [ 0.48287671  0.53608247  0.47552448  0.44210526  0.44014085] C =  106\n",
      "Accuracy =  [ 0.48287671  0.53608247  0.47552448  0.44210526  0.44014085] C =  111\n",
      "Accuracy =  [ 0.48287671  0.53608247  0.47552448  0.44210526  0.44014085] C =  116\n",
      "Accuracy =  [ 0.48287671  0.53608247  0.47552448  0.44210526  0.44014085] C =  121\n",
      "Accuracy =  [ 0.48287671  0.53608247  0.47552448  0.44210526  0.44014085] C =  126\n",
      "Accuracy =  [ 0.48287671  0.53608247  0.47552448  0.44210526  0.44014085] C =  131\n",
      "Accuracy =  [ 0.48287671  0.53608247  0.47552448  0.44210526  0.44014085] C =  136\n",
      "Accuracy =  [ 0.48287671  0.53608247  0.47552448  0.44210526  0.44014085] C =  141\n",
      "Accuracy =  [ 0.48287671  0.53608247  0.47552448  0.44210526  0.44014085] C =  146\n",
      "Accuracy =  [ 0.48287671  0.53608247  0.47552448  0.44210526  0.44014085] C =  151\n",
      "Accuracy =  [ 0.48287671  0.53608247  0.47552448  0.44210526  0.44014085] C =  156\n",
      "Accuracy =  [ 0.48287671  0.53608247  0.47552448  0.44210526  0.44014085] C =  161\n",
      "Accuracy =  [ 0.48287671  0.53608247  0.47552448  0.44210526  0.44014085] C =  166\n",
      "Accuracy =  [ 0.48287671  0.53608247  0.47552448  0.44210526  0.44014085] C =  171\n",
      "Accuracy =  [ 0.48287671  0.53608247  0.47552448  0.44210526  0.44014085] C =  176\n",
      "Accuracy =  [ 0.48287671  0.53608247  0.47552448  0.44210526  0.44014085] C =  181\n",
      "Accuracy =  [ 0.48287671  0.53608247  0.47552448  0.44210526  0.44014085] C =  186\n",
      "Accuracy =  [ 0.48287671  0.53608247  0.47552448  0.44210526  0.44014085] C =  191\n",
      "Accuracy =  [ 0.48287671  0.53608247  0.47552448  0.44210526  0.44014085] C =  196\n",
      "Accuracy =  [ 0.48287671  0.53608247  0.47552448  0.44210526  0.44014085] C =  201\n",
      "Accuracy =  [ 0.48287671  0.53608247  0.47552448  0.44210526  0.44014085] C =  206\n",
      "Accuracy =  [ 0.48287671  0.53608247  0.47552448  0.44210526  0.44014085] C =  211\n",
      "Accuracy =  [ 0.48287671  0.53608247  0.47552448  0.44210526  0.44014085] C =  216\n",
      "Accuracy =  [ 0.48287671  0.53608247  0.47552448  0.44210526  0.44014085] C =  221\n",
      "Accuracy =  [ 0.48287671  0.53608247  0.47552448  0.44210526  0.44014085] C =  226\n",
      "Accuracy =  [ 0.48287671  0.53608247  0.47552448  0.44210526  0.44014085] C =  231\n",
      "Accuracy =  [ 0.48287671  0.53608247  0.47552448  0.44210526  0.44014085] C =  236\n",
      "Accuracy =  [ 0.48287671  0.53608247  0.47552448  0.44210526  0.44014085] C =  241\n",
      "Accuracy =  [ 0.48287671  0.53608247  0.47552448  0.44210526  0.44014085] C =  246\n",
      "Accuracy =  [ 0.48287671  0.53608247  0.47552448  0.44210526  0.44014085] C =  251\n",
      "Accuracy =  [ 0.48287671  0.53608247  0.47552448  0.44210526  0.44014085] C =  256\n",
      "Accuracy =  [ 0.48287671  0.53608247  0.47552448  0.44210526  0.44014085] C =  261\n",
      "Accuracy =  [ 0.48287671  0.53608247  0.47552448  0.44210526  0.44014085] C =  266\n",
      "Accuracy =  [ 0.48287671  0.53608247  0.47552448  0.44210526  0.44014085] C =  271\n",
      "Accuracy =  [ 0.48287671  0.53608247  0.47552448  0.44210526  0.44014085] C =  276\n",
      "Accuracy =  [ 0.48287671  0.53608247  0.47552448  0.44210526  0.44014085] C =  281\n",
      "Accuracy =  [ 0.48287671  0.53608247  0.47552448  0.44210526  0.44014085] C =  286\n",
      "Accuracy =  [ 0.48287671  0.53608247  0.47552448  0.44210526  0.44014085] C =  291\n",
      "Accuracy =  [ 0.48287671  0.53608247  0.47552448  0.44210526  0.44014085] C =  296\n",
      "Accuracy =  [ 0.48287671  0.53608247  0.47552448  0.44210526  0.44014085] C =  301\n",
      "Accuracy =  [ 0.48287671  0.53608247  0.47552448  0.44210526  0.44014085] C =  306\n",
      "Accuracy =  [ 0.48287671  0.53608247  0.47552448  0.44210526  0.44014085] C =  311\n",
      "Accuracy =  [ 0.48287671  0.53608247  0.47552448  0.44210526  0.44014085] C =  316\n",
      "Accuracy =  [ 0.48287671  0.53608247  0.47552448  0.44210526  0.44014085] C =  321\n",
      "Accuracy =  [ 0.48287671  0.53608247  0.47552448  0.44210526  0.44014085] C =  326\n",
      "Accuracy =  [ 0.48287671  0.53608247  0.47552448  0.44210526  0.44014085] C =  331\n",
      "Accuracy =  [ 0.48287671  0.53608247  0.47552448  0.44210526  0.44014085] C =  336\n",
      "Accuracy =  [ 0.48287671  0.53608247  0.47552448  0.44210526  0.44014085] C =  341\n",
      "Accuracy =  [ 0.48287671  0.53608247  0.47552448  0.44210526  0.44014085] C =  346\n",
      "Accuracy =  [ 0.48287671  0.53608247  0.47552448  0.44210526  0.44014085] C =  351\n",
      "Accuracy =  [ 0.48287671  0.53608247  0.47552448  0.44210526  0.44014085] C =  356\n",
      "Accuracy =  [ 0.48287671  0.53608247  0.47552448  0.44210526  0.44014085] C =  361\n",
      "Accuracy =  [ 0.48287671  0.53608247  0.47552448  0.44210526  0.44014085] C =  366\n",
      "Accuracy =  [ 0.48287671  0.53608247  0.47552448  0.44210526  0.44014085] C =  371\n",
      "Accuracy =  [ 0.48287671  0.53608247  0.47552448  0.44210526  0.44014085] C =  376\n",
      "Accuracy =  [ 0.48287671  0.53608247  0.47552448  0.44210526  0.44014085] C =  381\n",
      "Accuracy =  [ 0.48287671  0.53608247  0.47552448  0.44210526  0.44014085] C =  386\n",
      "Accuracy =  [ 0.48287671  0.53608247  0.47552448  0.44210526  0.44014085] C =  391\n",
      "Accuracy =  [ 0.48287671  0.53608247  0.47552448  0.44210526  0.44014085] C =  396\n",
      "Accuracy =  [ 0.48287671  0.53608247  0.47552448  0.44210526  0.44014085] C =  401\n",
      "Accuracy =  [ 0.48287671  0.53608247  0.47552448  0.44210526  0.44014085] C =  406\n",
      "Accuracy =  [ 0.48287671  0.53608247  0.47552448  0.44210526  0.44014085] C =  411\n",
      "Accuracy =  [ 0.48287671  0.53608247  0.47552448  0.44210526  0.44014085] C =  416\n",
      "Accuracy =  [ 0.48287671  0.53608247  0.47552448  0.44210526  0.44014085] C =  421\n",
      "Accuracy =  [ 0.48287671  0.53608247  0.47552448  0.44210526  0.44014085] C =  426\n",
      "Accuracy =  [ 0.48287671  0.53608247  0.47552448  0.44210526  0.44014085] C =  431\n",
      "Accuracy =  [ 0.48287671  0.53608247  0.47552448  0.44210526  0.44014085] C =  436\n",
      "Accuracy =  [ 0.48287671  0.53608247  0.47552448  0.44210526  0.44014085] C =  441\n",
      "Accuracy =  [ 0.48287671  0.53608247  0.47552448  0.44210526  0.44014085] C =  446\n",
      "Accuracy =  [ 0.48287671  0.53608247  0.47552448  0.44210526  0.44014085] C =  451\n",
      "Accuracy =  [ 0.48287671  0.53608247  0.47552448  0.44210526  0.44014085] C =  456\n",
      "Accuracy =  [ 0.48287671  0.53608247  0.47552448  0.44210526  0.44014085] C =  461\n",
      "Accuracy =  [ 0.48287671  0.53608247  0.47552448  0.44210526  0.44014085] C =  466\n",
      "Accuracy =  [ 0.48287671  0.53608247  0.47552448  0.44210526  0.44014085] C =  471\n",
      "Accuracy =  [ 0.48287671  0.53608247  0.47552448  0.44210526  0.44014085] C =  476\n",
      "Accuracy =  [ 0.48287671  0.53608247  0.47552448  0.44210526  0.44014085] C =  481\n",
      "Accuracy =  [ 0.48287671  0.53608247  0.47552448  0.44210526  0.44014085] C =  486\n",
      "Accuracy =  [ 0.48287671  0.53608247  0.47552448  0.44210526  0.44014085] C =  491\n"
     ]
    },
    {
     "name": "stdout",
     "output_type": "stream",
     "text": [
      "Accuracy =  [ 0.48287671  0.53608247  0.47552448  0.44210526  0.44014085] C =  496\n"
     ]
    }
   ],
   "source": [
    "#6 unscaled data\n",
    "Xu = digits.data\n",
    "yu = digits.target\n",
    "X_train_u, X_test_u, y_train_u, y_test_u = train_test_split(Xu, yu, random_state=1, test_size=0.8)\n",
    "for i in range (1, 500, 5): \n",
    "    model_u = svm.SVC(kernel='rbf', C=i).fit(X_test_u,y_test_u)\n",
    "    y_pred_u = model.predict(Xu)\n",
    "#     score = cross_val_score(estimator = model, X = X_test, y = y_test, cv=5, scoring='accuracy') \n",
    "#     print(metrics.confusion_matrix(y_true = y, y_pred=y_predi))\n",
    "    print('Accuracy = ', cross_val_score(estimator = model_u, X = X_test_u, y = y_test_u, cv=5, scoring='accuracy'), 'C = ', i)"
   ]
  },
  {
   "cell_type": "markdown",
   "metadata": {},
   "source": [
    "**Your Interpretation**: The best value for Accuracy was .962159154457986. This was the case for all values for C from 2 - 500. The worst value was for C = 1. This suggests that no matter the value of C, the result is the same. \n",
    "\n"
   ]
  },
  {
   "cell_type": "markdown",
   "metadata": {},
   "source": [
    "### Task 1.2: Prediction with k-nearest neighbors\n",
    "Repeat task 1.1 using k-nearest neighbors (k-NN). In part 1, use k=10. In part 3, find the best value of k. "
   ]
  },
  {
   "cell_type": "code",
   "execution_count": 11,
   "metadata": {},
   "outputs": [
    {
     "name": "stdout",
     "output_type": "stream",
     "text": [
      "[[130   0   0   0   0   0   0   0   0   0]\n",
      " [  0 137  11   0   0   0   0   0   1   0]\n",
      " [  2   4 123   2   0   0   0   2   9   0]\n",
      " [  1   0   1 133   0   1   0   6   4   1]\n",
      " [  0   0   0   0 147   0   0   4   1   0]\n",
      " [  1   1   0   2   1 136   1   0   0   5]\n",
      " [  0   2   0   0   0   0 143   0   1   0]\n",
      " [  0   0   0   0   0   0   0 139   1   0]\n",
      " [  0   9   1   6   0   0   0   1 115   1]\n",
      " [  5  10   0   5   1   3   2   9   8 109]]\n",
      "Accuracy =  0.912378303199\n"
     ]
    }
   ],
   "source": [
    "# your solution goes here\n",
    "\n",
    "knnModel = KNeighborsClassifier(n_neighbors=10).fit(X_train,y_train)\n",
    "y_pre = knnModel.predict(X_test)\n",
    "print(metrics.confusion_matrix(y_true = y_test, y_pred = y_pre))\n",
    "print('Accuracy = ', metrics.accuracy_score(y_true = y_test, y_pred = y_pre))"
   ]
  },
  {
   "cell_type": "code",
   "execution_count": 12,
   "metadata": {},
   "outputs": [
    {
     "name": "stdout",
     "output_type": "stream",
     "text": [
      "[16, 60, 84, 112, 169, 176, 203, 210, 225, 248, 249, 284, 298, 347, 361, 385, 387, 394, 400, 439, 462, 487, 523, 528, 533, 537, 540, 545, 576, 591, 635, 648, 683, 721, 726, 735, 738, 755, 757, 782, 785, 799, 891, 932, 957, 971, 999, 1032, 1040, 1085, 1089, 1090, 1108, 1120, 1149, 1198, 1217, 1230, 1255, 1273, 1283, 1342, 1346, 1356, 1363, 1371, 1394, 1395]\n"
     ]
    },
    {
     "data": {
      "image/png": "[encoded data removed]",
      "text/plain": [
       "<matplotlib.figure.Figure at 0x1a155a5550>"
      ]
     },
     "metadata": {},
     "output_type": "display_data"
    }
   ],
   "source": [
    "misClassifiedK = [x for x in range(len(y_pre)) if y_test[x] != y_pre[x]]\n",
    "print(misClassified)\n",
    "plt.figure(figsize=(15,15))\n",
    "for i, val in enumerate(misClassifiedK): \n",
    "    plt.subplot(np.ceil(len(misClassifiedK)/10), 10, i+1)\n",
    "    plt.imshow(np.reshape(X_test[val,:], (8,8)), cmap='Greys', interpolation='nearest')\n",
    "    plt.axis('off')\n",
    "plt.show()"
   ]
  },
  {
   "cell_type": "code",
   "execution_count": 13,
   "metadata": {},
   "outputs": [
    {
     "name": "stdout",
     "output_type": "stream",
     "text": [
      "Best =  3.02040816327\n"
     ]
    },
    {
     "data": {
      "image/png": "[encoded data removed]",
      "text/plain": [
       "<matplotlib.figure.Figure at 0x1a1659cf98>"
      ]
     },
     "metadata": {},
     "output_type": "display_data"
    }
   ],
   "source": [
    "\n",
    "Cs = np.linspace(1, 100, 50)\n",
    "Accuracies = np.zeros(Cs.shape[0])\n",
    "for i,k in enumerate(Cs): \n",
    "    mod = KNeighborsClassifier(n_neighbors=int(k))\n",
    "#     print(metrics.confusion_matrix(y_true = y_train, y_pred=y_prediction))\n",
    "    scores = cross_val_score(estimator = mod, X = X, y = y, cv=5, scoring='accuracy')\n",
    "    Accuracies[i] = scores.mean()\n",
    "plt.plot(Cs,Accuracies)\n",
    "plt.xticks(np.arange(0, 100, 5))\n",
    "best = Cs[np.argmax(Accuracies)]\n",
    "print('Best = ', best)\n",
    "plt.show()"
   ]
  },
  {
   "cell_type": "code",
   "execution_count": 14,
   "metadata": {},
   "outputs": [
    {
     "name": "stdout",
     "output_type": "stream",
     "text": [
      "Best =  3.02040816327\n"
     ]
    },
    {
     "data": {
      "image/png": "[encoded data removed]",
      "text/plain": [
       "<matplotlib.figure.Figure at 0x1a1444cb70>"
      ]
     },
     "metadata": {},
     "output_type": "display_data"
    }
   ],
   "source": [
    "# Xu = digits.data\n",
    "# yu = digits.target\n",
    "# X_train_u, X_test_u, y_train_u, y_test_u = train_test_split(Xu, yu, random_state=1, test_size=0.8)\n",
    "kuCs = np.linspace(1, 100, 50)\n",
    "kuAccuracies = np.zeros(kuCs.shape[0])\n",
    "for i,k in enumerate(kuCs): \n",
    "    mod_ku = KNeighborsClassifier(n_neighbors=int(k))\n",
    "#     print(metrics.confusion_matrix(y_true = y_train, y_pred=y_prediction))\n",
    "    scores = cross_val_score(estimator = mod_ku, X = Xu, y = yu, cv=5, scoring='accuracy')\n",
    "    kuAccuracies[i] = scores.mean()\n",
    "plt.plot(kuCs,kuAccuracies)\n",
    "plt.xticks(np.arange(0, 100, 5))\n",
    "kubest = kuCs[np.argmax(kuAccuracies)]\n",
    "print('Best = ', kubest)\n",
    "plt.show()"
   ]
  },
  {
   "cell_type": "markdown",
   "metadata": {},
   "source": [
    "**Your Interpretation**: Looks like the best K for this dataset was around 3. "
   ]
  },
  {
   "cell_type": "markdown",
   "metadata": {},
   "source": [
    "# Part 2: Popularity of online news\n",
    "\n",
    "For this problem, you will use classification tools to predict the popularity of online news based on attributes such as the length of the article, the number of images, the day of the week that the article was published, and some variables related to the content of the article. You can learn details about the datasetat the\n",
    "[UCI Machine Learning Repository](https://archive.ics.uci.edu/ml/datasets/Online+News+Popularity). \n",
    "This dataset was first used in the following conference paper: \n",
    "\n",
    "K. Fernandes, P. Vinagre and P. Cortez. A Proactive Intelligent Decision Support System for Predicting the Popularity of Online News. *Proceedings of the 17th EPIA 2015 - Portuguese Conference on Artificial Intelligence* (2015).\n",
    "\n",
    "The dataset contains variables describing 39,644 articles published between January 7, 2013 and Januyary 7, 2015 on the news website, [Mashable](http://mashable.com/). \n",
    "There are 61 variables associated with each article. Of these, 58 are *predictor* variables, 2 are variables that we will not use (url and timedelta), and finally the number of shares of each article. The number of shares is what we will use to define whether or not the article was *popular*, which is what we will try to predict. You should read about the predictor variables in the file *OnlineNewsPopularity.names*. Further details about the collection and processing of the articles can be found in the conference paper. \n",
    "\n",
    "\n",
    "### Task 2.1 Import the data \n",
    "* Use the pandas.read_csv() function to import the dataset.\n",
    "* To us[scikit-learn](http://scikit-learn.org), we'll need to save the data as a numpy array. Use the *DataFrame.as_matrix()* command to export the predictor variables as a numpy array called *X* this array should not include our target variable (the number of shares). We don't need the url and timedelta, so let's drop these columns. \n",
    "* Export the number of shares as a separate numpy array, called *shares*. We'll define an article to be popular if it received more shares than the median number of shares. Create a binary numpy array, *y*, which indicates whether or not each article is popular."
   ]
  },
  {
   "cell_type": "code",
   "execution_count": 15,
   "metadata": {},
   "outputs": [
    {
     "data": {
      "text/plain": [
       "dtype('int64')"
      ]
     },
     "execution_count": 15,
     "metadata": {},
     "output_type": "execute_result"
    }
   ],
   "source": [
    "# Your code here.  Note the data and description are in the OnlineNewsPopularity directory\n",
    "dirtyCsv = pd.read_csv(\"/Users/znickle/znickle/DataAnalysesAndVisualization/Homework/Homework5/OnlineNewsPopularity/OnlineNewsPopularity.csv\")\n",
    "list(dirtyCsv)\n",
    "#the following are the instructions above (create np array called shares, delete url and timedelta then create the remaining colums as an np array)\n",
    "del dirtyCsv['url']\n",
    "del dirtyCsv[' timedelta']\n",
    "shares = dirtyCsv[' shares']\n",
    "shares = shares.as_matrix()\n",
    "del dirtyCsv[' shares']\n",
    "SX = dirtyCsv.as_matrix()\n",
    "shares.dtype"
   ]
  },
  {
   "cell_type": "code",
   "execution_count": 16,
   "metadata": {},
   "outputs": [
    {
     "name": "stdout",
     "output_type": "stream",
     "text": [
      "[ 593  711 1500 ..., 1900 1100 1300]\n",
      "[ 593  711 1500 ..., 1900 1100 1300]\n",
      "Popular Threshold:  1400.0\n",
      "[0 0 1 ..., 1 0 0]\n",
      "[ 593  711 1500 ..., 1900 1100 1300]\n"
     ]
    }
   ],
   "source": [
    "#Create a binary numpy array, y, which indicates whether or not each article is popular\n",
    "def isPopular(x, popValue): \n",
    "    if x >= popValue:\n",
    "        return 1\n",
    "    else:\n",
    "        return 0\n",
    "print(shares)\n",
    "originalShares = shares.copy()\n",
    "print(originalShares)\n",
    "popularThreshold = statistics.median(shares)\n",
    "print('Popular Threshold: ', popularThreshold)\n",
    "for i in range(0, len(shares)):\n",
    "    shares[i] = isPopular(shares[i], popularThreshold)\n",
    "print(shares)\n",
    "print(originalShares)"
   ]
  },
  {
   "cell_type": "markdown",
   "metadata": {},
   "source": [
    "### Task 2.2 Exploratory data analysis \n",
    "\n",
    "First check to see if the values are reasonable. What are the min, median, and maximum number of shares? "
   ]
  },
  {
   "cell_type": "code",
   "execution_count": 17,
   "metadata": {},
   "outputs": [
    {
     "name": "stdout",
     "output_type": "stream",
     "text": [
      "Minimum:  1\n",
      "Maximum:  843300\n",
      "Median:  1400.0\n"
     ]
    }
   ],
   "source": [
    "minimum = originalShares.min()\n",
    "median = statistics.median(originalShares)\n",
    "maximum = originalShares.max()\n",
    "print('Minimum: ', minimum)\n",
    "print('Maximum: ', maximum)\n",
    "print('Median: ', median)"
   ]
  },
  {
   "cell_type": "code",
   "execution_count": 18,
   "metadata": {},
   "outputs": [
    {
     "name": "stdout",
     "output_type": "stream",
     "text": [
      "[0 0 1 ..., 1 0 0]\n"
     ]
    }
   ],
   "source": [
    "print(shares)"
   ]
  },
  {
   "cell_type": "markdown",
   "metadata": {},
   "source": [
    "### Task 2.3 Classification using k-NN\n",
    "\n",
    "Develop a k-NN classification model for the data. Use cross validation to choose the best value of k. What is the best accuracy you can obtain on the test data? "
   ]
  },
  {
   "cell_type": "code",
   "execution_count": 19,
   "metadata": {},
   "outputs": [
    {
     "name": "stdout",
     "output_type": "stream",
     "text": [
      "<class 'numpy.ndarray'>\n",
      "sn_digits: 2, sn_samples 39644, sn_features 58\n"
     ]
    }
   ],
   "source": [
    "SX = scale(SX)\n",
    "sy = shares\n",
    "print(type(SX))\n",
    "\n",
    "sn_samples, sn_features = SX.shape\n",
    "sn_digits = len(np.unique(sy))\n",
    "print(\"sn_digits: %d, sn_samples %d, sn_features %d\" % (sn_digits, sn_samples, sn_features))"
   ]
  },
  {
   "cell_type": "code",
   "execution_count": 20,
   "metadata": {},
   "outputs": [
    {
     "name": "stdout",
     "output_type": "stream",
     "text": [
      "[[10052  4671]\n",
      " [ 7901  9092]]\n",
      "Accuracy =  0.603607012234\n"
     ]
    }
   ],
   "source": [
    "X_train_s, X_test_s, y_train_s, y_test_s = train_test_split(SX, sy, random_state=1, test_size=0.8)\n",
    "sModel = KNeighborsClassifier(n_neighbors=10).fit(X_train_s,y_train_s)\n",
    "y_s_pre = sModel.predict(X_test_s)\n",
    "print(metrics.confusion_matrix(y_true = y_test_s, y_pred = y_s_pre))\n",
    "print('Accuracy = ', metrics.accuracy_score(y_true = y_test_s, y_pred = y_s_pre))"
   ]
  },
  {
   "cell_type": "code",
   "execution_count": 21,
   "metadata": {},
   "outputs": [
    {
     "name": "stdout",
     "output_type": "stream",
     "text": [
      "Best =  100.0\n"
     ]
    },
    {
     "data": {
      "image/png": "[encoded data removed]",
      "text/plain": [
       "<matplotlib.figure.Figure at 0x1a1b9a8390>"
      ]
     },
     "metadata": {},
     "output_type": "display_data"
    }
   ],
   "source": [
    "xCopy = SX[0:5000]\n",
    "yCopy = sy[0:5000]\n",
    "kss = np.linspace(1, 100, 50)\n",
    "sAccuracies = np.zeros(kss.shape[0])\n",
    "for i,k in enumerate(kss): \n",
    "    s_mod = KNeighborsClassifier(n_neighbors=int(k))\n",
    "#     print(metrics.confusion_matrix(y_true = y_train, y_pred=y_prediction))\n",
    "    scores_s = cross_val_score(estimator = s_mod, X = xCopy, y = yCopy, cv=5, scoring='accuracy')\n",
    "    sAccuracies[i] = scores_s.mean()\n",
    "plt.plot(kss,sAccuracies)\n",
    "plt.xticks(np.arange(0, 100, 5))\n",
    "sBest = kss[np.argmax(sAccuracies)]\n",
    "print('Best = ', sBest)\n",
    "plt.show()"
   ]
  },
  {
   "cell_type": "markdown",
   "metadata": {},
   "source": [
    "**Interpretation:** Best accuracy score for knn is 93.9387755102"
   ]
  },
  {
   "cell_type": "markdown",
   "metadata": {},
   "source": [
    "### Task 2.4 Classification using SVM\n",
    "\n",
    "Develop a support vector machine classification model for the data. \n",
    " \n",
    " * SVM is computationally expensive, so start by using only a fraction of the data, say 5,000 articles. \n",
    " * Experimt with different Cs. Which is the best value for C?\n",
    "\n",
    "Note that it takes multiple minutes per value of C to run on the whole dataset!"
   ]
  },
  {
   "cell_type": "code",
   "execution_count": 22,
   "metadata": {},
   "outputs": [
    {
     "name": "stdout",
     "output_type": "stream",
     "text": [
      "0\n",
      "1\n",
      "2\n",
      "3\n",
      "4\n",
      "5\n",
      "6\n",
      "7\n",
      "8\n",
      "9\n",
      "10\n",
      "11\n",
      "12\n",
      "13\n",
      "14\n",
      "15\n",
      "16\n",
      "17\n",
      "18\n",
      "19\n",
      "Best =  0.3\n"
     ]
    },
    {
     "data": {
      "image/png": "[encoded data removed]",
      "text/plain": [
       "<matplotlib.figure.Figure at 0x1a14a85588>"
      ]
     },
     "metadata": {},
     "output_type": "display_data"
    }
   ],
   "source": [
    "#use xCopy and yCopy in order to only use 5,000 articles /X_train_s, X_test_s, y_train_s, y_test_s for test/train\n",
    "\n",
    "# for i in range (1, 500, 5): \n",
    "#     s_model = svm.SVC(kernel='rbf', C=i).fit(X_test_s,y_test_s)\n",
    "#     y_predi = s_model.predict(X_test_s)\n",
    "# #     score = cross_val_score(estimator = model, X = X_test, y = y_test, cv=5, scoring='accuracy') \n",
    "# #     print(metrics.confusion_matrix(y_true = y, y_pred=y_predi))\n",
    "#     print('Accuracy = ', cross_val_score(estimator = model, X = X_test_s, y = y_test_s, cv=5, scoring='accuracy'), 'C = ', i)\n",
    "svm_s = np.linspace(.1, 2.0,20)\n",
    "sv_Accuracies = np.zeros(svm_s.shape[0])\n",
    "for i,C in enumerate(svm_s): \n",
    "    sv_model = svm.SVC(kernel='rbf', C=C)\n",
    "#     print(metrics.confusion_matrix(y_true = y_train, y_pred=y_prediction))\n",
    "    sv_scores = cross_val_score(estimator = sv_model, X = xCopy, y = yCopy, cv=5, scoring='accuracy')\n",
    "    sv_Accuracies[i] = sv_scores.mean()\n",
    "    print(i)\n",
    "plt.plot(svm_s,sv_Accuracies)\n",
    "plt.xticks(np.arange(0, 20, 1))\n",
    "sv_best = svm_s[np.argmax(sv_Accuracies)]\n",
    "print('Best = ', sv_best)\n",
    "plt.show()"
   ]
  },
  {
   "cell_type": "code",
   "execution_count": null,
   "metadata": {},
   "outputs": [],
   "source": []
  },
  {
   "cell_type": "markdown",
   "metadata": {},
   "source": [
    "*Best value for C is .1*"
   ]
  },
  {
   "cell_type": "markdown",
   "metadata": {},
   "source": [
    "### Task 2.5 Classification using decision trees\n",
    "\n",
    "Develop a decision tree classification model for the data. \n",
    "\n",
    "Use cross validation to choose good values of the max tree depth (*max_depth*) and minimum samples split (*min_samples_split*). "
   ]
  },
  {
   "cell_type": "code",
   "execution_count": 23,
   "metadata": {},
   "outputs": [],
   "source": [
    "# Your code here\n",
    "X_train_d, X_test_d, y_train_d, y_test_d = train_test_split(SX, sy, random_state=1, test_size=0.8)\n",
    "decisionTree = tree.DecisionTreeClassifier()\n",
    "decisionTree = decisionTree.fit(X_train_d, y_train_d)"
   ]
  },
  {
   "cell_type": "code",
   "execution_count": 24,
   "metadata": {},
   "outputs": [
    {
     "name": "stdout",
     "output_type": "stream",
     "text": [
      "Accuracy on training data=  1.0\n",
      "Accuracy on test data=  0.568798082987\n"
     ]
    }
   ],
   "source": [
    "y_predict_train = decisionTree.predict(X_train_d)\n",
    "print('Accuracy on training data= ', metrics.accuracy_score(y_true = y_train_d, y_pred = y_predict_train))\n",
    "y_predict_d = decisionTree.predict(X_test_d)\n",
    "print('Accuracy on test data= ', metrics.accuracy_score(y_true = y_test_d, y_pred = y_predict_d))"
   ]
  },
  {
   "cell_type": "code",
   "execution_count": 27,
   "metadata": {},
   "outputs": [
    {
     "name": "stdout",
     "output_type": "stream",
     "text": [
      "0.629541314597\n",
      "Max Depth  7\n",
      "Min Sample Split  100\n"
     ]
    }
   ],
   "source": [
    "md = [1, 3, 5, 7, 9]\n",
    "mss = [15, 30, 50, 75, 100]\n",
    "bestSD = [0,0]\n",
    "bestScoreSoFar = 0\n",
    "for x in md:\n",
    "    for y in mss:\n",
    "        decisionTree = tree.DecisionTreeClassifier(max_depth=x, min_samples_split=y)\n",
    "#         decisionTree = decisionTree.fit(X_train_d, y_train_d)\n",
    "        scores_d = cross_val_score(estimator = decisionTree, X = X_train_d, y = y_train_d, cv = 5, scoring='accuracy')\n",
    "        meanScore_d = scores_d.mean()\n",
    "        if meanScore_d > bestScoreSoFar: \n",
    "            bestScoreSoFar = meanScore_d\n",
    "            bestSD = [x, y]\n",
    "print(bestScoreSoFar)\n",
    "print('Max Depth ', bestSD[0])\n",
    "print('Min Sample Split ', bestSD[1])\n"
   ]
  },
  {
   "cell_type": "markdown",
   "metadata": {},
   "source": [
    "### Task 2.6 Describe your findings\n",
    "1. Which method (k-NN, SVM, Decision Tree) worked best?\n",
    "+ How did different parameters influence the accuracy?\n",
    "+ Which model is easiest do interpret?\n",
    "+ How would you interpret your results?\n"
   ]
  },
  {
   "cell_type": "markdown",
   "metadata": {},
   "source": [
    "**Your Solution:** \n",
    "1. KNN at appx 93%\n",
    "2. Small k seemed to be the worst for knn. C doesn't seem to affect anything with SVM's. The depth of the decision tree does matter, choosing that is just trial and error. It seems that 7 was the best depth and 100 was the best min sample size (similar to deciding a leaf node in a quad tree). \n",
    "3. KNN because it's easy to use a graph to show where the best value for k is and easy to show the accuracy at that k. \n",
    "4. We've narrowed it down to knn for the 2nd dataset. We'd want to then go in and turn some of the nobs to tune the algorithm. All we've done here is decided which datastructure to use. "
   ]
  }
 ],
 "metadata": {
  "anaconda-cloud": {},
  "kernelspec": {
   "display_name": "Python 3",
   "language": "python",
   "name": "python3"
  },
  "language_info": {
   "codemirror_mode": {
    "name": "ipython",
    "version": 3
   },
   "file_extension": ".py",
   "mimetype": "text/x-python",
   "name": "python",
   "nbconvert_exporter": "python",
   "pygments_lexer": "ipython3",
   "version": "3.6.4"
  }
 },
 "nbformat": 4,
 "nbformat_minor": 2
}
